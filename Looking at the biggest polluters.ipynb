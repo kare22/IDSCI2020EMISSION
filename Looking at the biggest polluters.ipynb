{
 "cells": [
  {
   "cell_type": "code",
   "execution_count": 1,
   "metadata": {},
   "outputs": [],
   "source": [
    "import pandas as pd\n",
    "import numpy as np\n",
    "import math\n",
    "from IPython.display import HTML, display\n",
    "import tabulate"
   ]
  },
  {
   "cell_type": "code",
   "execution_count": 2,
   "metadata": {},
   "outputs": [],
   "source": [
    "# Find 3 countries with the biggest CO2 overall emissions\n",
    "\n",
    "df = pd.read_csv('andmed.csv')\n"
   ]
  },
  {
   "cell_type": "code",
   "execution_count": 3,
   "metadata": {},
   "outputs": [
    {
     "data": {
      "text/plain": [
       "['Aruba', 'Qatar', 'United Arab Emirates']"
      ]
     },
     "execution_count": 3,
     "metadata": {},
     "output_type": "execute_result"
    }
   ],
   "source": [
    "emissions = {}\n",
    "countries = set(df['Country Name'])\n",
    "\n",
    "for country in countries:\n",
    "    if country != 'World':\n",
    "        years = df[df['Country Name'] == country]['CO2 emissions (metric tons per capita) [EN.ATM.CO2E.PC]']\n",
    "        if len(years) != np.nan and len(years) > 0:\n",
    "            average = sum(years) / len(years)    \n",
    "            if not math.isnan(average):\n",
    "                emissions[country] = average\n",
    "            \n",
    "#Three of the biggest poluters of CO2\n",
    "sorted(emissions, key=emissions.get, reverse=True)[:3]\n"
   ]
  },
  {
   "cell_type": "code",
   "execution_count": 4,
   "metadata": {},
   "outputs": [
    {
     "data": {
      "text/plain": [
       "11056    233.488931\n",
       "11319    258.819846\n",
       "11582    234.886548\n",
       "11845    243.870306\n",
       "12108    281.995733\n",
       "Name: CO2 emissions (metric tons per capita) [EN.ATM.CO2E.PC], dtype: float64"
      ]
     },
     "execution_count": 4,
     "metadata": {},
     "output_type": "execute_result"
    }
   ],
   "source": [
    "#Just to check the overwhelming results\n",
    "df[df['Country Name'] == 'Aruba']['CO2 emissions (metric tons per capita) [EN.ATM.CO2E.PC]'].tail()"
   ]
  },
  {
   "cell_type": "code",
   "execution_count": 5,
   "metadata": {},
   "outputs": [
    {
     "name": "stdout",
     "output_type": "stream",
     "text": [
      "Aruba\n"
     ]
    },
    {
     "data": {
      "text/html": [
       "<table>\n",
       "<tbody>\n",
       "<tr><td style=\"text-align: right;\">   10</td><td style=\"text-align: right;\">nan</td><td style=\"text-align: right;\">nan</td><td style=\"text-align: right;\">  nan</td></tr>\n",
       "<tr><td style=\"text-align: right;\">  273</td><td style=\"text-align: right;\">nan</td><td style=\"text-align: right;\">nan</td><td style=\"text-align: right;\">  nan</td></tr>\n",
       "<tr><td style=\"text-align: right;\">  536</td><td style=\"text-align: right;\">nan</td><td style=\"text-align: right;\">nan</td><td style=\"text-align: right;\"> 9816</td></tr>\n",
       "<tr><td style=\"text-align: right;\">  799</td><td style=\"text-align: right;\">nan</td><td style=\"text-align: right;\">nan</td><td style=\"text-align: right;\"> 9803</td></tr>\n",
       "<tr><td style=\"text-align: right;\"> 1062</td><td style=\"text-align: right;\">nan</td><td style=\"text-align: right;\">nan</td><td style=\"text-align: right;\"> 8888</td></tr>\n",
       "<tr><td style=\"text-align: right;\"> 1325</td><td style=\"text-align: right;\">nan</td><td style=\"text-align: right;\">nan</td><td style=\"text-align: right;\"> 9112</td></tr>\n",
       "<tr><td style=\"text-align: right;\"> 1588</td><td style=\"text-align: right;\">nan</td><td style=\"text-align: right;\">nan</td><td style=\"text-align: right;\"> 9858</td></tr>\n",
       "<tr><td style=\"text-align: right;\"> 1851</td><td style=\"text-align: right;\">nan</td><td style=\"text-align: right;\">nan</td><td style=\"text-align: right;\"> 9944</td></tr>\n",
       "<tr><td style=\"text-align: right;\"> 2114</td><td style=\"text-align: right;\">nan</td><td style=\"text-align: right;\">nan</td><td style=\"text-align: right;\">10012</td></tr>\n",
       "<tr><td style=\"text-align: right;\"> 2377</td><td style=\"text-align: right;\">nan</td><td style=\"text-align: right;\">nan</td><td style=\"text-align: right;\">10346</td></tr>\n",
       "<tr><td style=\"text-align: right;\"> 2640</td><td style=\"text-align: right;\">nan</td><td style=\"text-align: right;\">nan</td><td style=\"text-align: right;\">10390</td></tr>\n",
       "<tr><td style=\"text-align: right;\"> 2903</td><td style=\"text-align: right;\">nan</td><td style=\"text-align: right;\">nan</td><td style=\"text-align: right;\">10250</td></tr>\n",
       "<tr><td style=\"text-align: right;\"> 3166</td><td style=\"text-align: right;\">nan</td><td style=\"text-align: right;\">nan</td><td style=\"text-align: right;\">10185</td></tr>\n",
       "<tr><td style=\"text-align: right;\"> 3429</td><td style=\"text-align: right;\">nan</td><td style=\"text-align: right;\">nan</td><td style=\"text-align: right;\"> 9897</td></tr>\n",
       "<tr><td style=\"text-align: right;\"> 3692</td><td style=\"text-align: right;\">nan</td><td style=\"text-align: right;\">nan</td><td style=\"text-align: right;\"> 9840</td></tr>\n",
       "<tr><td style=\"text-align: right;\"> 3955</td><td style=\"text-align: right;\">nan</td><td style=\"text-align: right;\">nan</td><td style=\"text-align: right;\"> 9436</td></tr>\n",
       "<tr><td style=\"text-align: right;\"> 4218</td><td style=\"text-align: right;\">nan</td><td style=\"text-align: right;\">nan</td><td style=\"text-align: right;\"> 9263</td></tr>\n",
       "<tr><td style=\"text-align: right;\"> 4481</td><td style=\"text-align: right;\">nan</td><td style=\"text-align: right;\">nan</td><td style=\"text-align: right;\"> 9096</td></tr>\n",
       "<tr><td style=\"text-align: right;\"> 4744</td><td style=\"text-align: right;\">nan</td><td style=\"text-align: right;\">nan</td><td style=\"text-align: right;\">  nan</td></tr>\n",
       "<tr><td style=\"text-align: right;\"> 5007</td><td style=\"text-align: right;\">nan</td><td style=\"text-align: right;\">nan</td><td style=\"text-align: right;\">  nan</td></tr>\n",
       "<tr><td style=\"text-align: right;\"> 5270</td><td style=\"text-align: right;\">nan</td><td style=\"text-align: right;\">nan</td><td style=\"text-align: right;\">  nan</td></tr>\n",
       "<tr><td style=\"text-align: right;\"> 5533</td><td style=\"text-align: right;\">nan</td><td style=\"text-align: right;\">nan</td><td style=\"text-align: right;\">  nan</td></tr>\n",
       "<tr><td style=\"text-align: right;\"> 5796</td><td style=\"text-align: right;\">nan</td><td style=\"text-align: right;\">nan</td><td style=\"text-align: right;\">  nan</td></tr>\n",
       "<tr><td style=\"text-align: right;\"> 6059</td><td style=\"text-align: right;\">nan</td><td style=\"text-align: right;\">nan</td><td style=\"text-align: right;\">  nan</td></tr>\n",
       "<tr><td style=\"text-align: right;\"> 6322</td><td style=\"text-align: right;\">nan</td><td style=\"text-align: right;\">nan</td><td style=\"text-align: right;\">  nan</td></tr>\n",
       "<tr><td style=\"text-align: right;\"> 6585</td><td style=\"text-align: right;\">nan</td><td style=\"text-align: right;\">nan</td><td style=\"text-align: right;\">  nan</td></tr>\n",
       "<tr><td style=\"text-align: right;\"> 6848</td><td style=\"text-align: right;\">nan</td><td style=\"text-align: right;\">nan</td><td style=\"text-align: right;\">  nan</td></tr>\n",
       "<tr><td style=\"text-align: right;\"> 7111</td><td style=\"text-align: right;\">nan</td><td style=\"text-align: right;\">nan</td><td style=\"text-align: right;\">  nan</td></tr>\n",
       "<tr><td style=\"text-align: right;\"> 7374</td><td style=\"text-align: right;\">nan</td><td style=\"text-align: right;\">nan</td><td style=\"text-align: right;\">  nan</td></tr>\n",
       "<tr><td style=\"text-align: right;\"> 7637</td><td style=\"text-align: right;\">nan</td><td style=\"text-align: right;\">nan</td><td style=\"text-align: right;\">  nan</td></tr>\n",
       "<tr><td style=\"text-align: right;\"> 7900</td><td style=\"text-align: right;\">nan</td><td style=\"text-align: right;\">nan</td><td style=\"text-align: right;\">  nan</td></tr>\n",
       "<tr><td style=\"text-align: right;\"> 8163</td><td style=\"text-align: right;\">nan</td><td style=\"text-align: right;\">nan</td><td style=\"text-align: right;\">  nan</td></tr>\n",
       "<tr><td style=\"text-align: right;\"> 8426</td><td style=\"text-align: right;\">nan</td><td style=\"text-align: right;\">nan</td><td style=\"text-align: right;\">  nan</td></tr>\n",
       "<tr><td style=\"text-align: right;\"> 8689</td><td style=\"text-align: right;\">nan</td><td style=\"text-align: right;\">nan</td><td style=\"text-align: right;\">  nan</td></tr>\n",
       "<tr><td style=\"text-align: right;\"> 8952</td><td style=\"text-align: right;\">nan</td><td style=\"text-align: right;\">nan</td><td style=\"text-align: right;\">  nan</td></tr>\n",
       "<tr><td style=\"text-align: right;\"> 9215</td><td style=\"text-align: right;\">nan</td><td style=\"text-align: right;\">nan</td><td style=\"text-align: right;\">  nan</td></tr>\n",
       "<tr><td style=\"text-align: right;\"> 9478</td><td style=\"text-align: right;\">nan</td><td style=\"text-align: right;\">nan</td><td style=\"text-align: right;\">  nan</td></tr>\n",
       "<tr><td style=\"text-align: right;\"> 9741</td><td style=\"text-align: right;\">nan</td><td style=\"text-align: right;\">nan</td><td style=\"text-align: right;\">  nan</td></tr>\n",
       "<tr><td style=\"text-align: right;\">10004</td><td style=\"text-align: right;\">nan</td><td style=\"text-align: right;\">nan</td><td style=\"text-align: right;\">  nan</td></tr>\n",
       "<tr><td style=\"text-align: right;\">10267</td><td style=\"text-align: right;\">nan</td><td style=\"text-align: right;\">nan</td><td style=\"text-align: right;\">  nan</td></tr>\n",
       "<tr><td style=\"text-align: right;\">10530</td><td style=\"text-align: right;\">nan</td><td style=\"text-align: right;\">nan</td><td style=\"text-align: right;\">  nan</td></tr>\n",
       "<tr><td style=\"text-align: right;\">10793</td><td style=\"text-align: right;\">nan</td><td style=\"text-align: right;\">nan</td><td style=\"text-align: right;\">  nan</td></tr>\n",
       "<tr><td style=\"text-align: right;\">11056</td><td style=\"text-align: right;\">nan</td><td style=\"text-align: right;\">nan</td><td style=\"text-align: right;\">  nan</td></tr>\n",
       "<tr><td style=\"text-align: right;\">11319</td><td style=\"text-align: right;\">nan</td><td style=\"text-align: right;\">nan</td><td style=\"text-align: right;\">  nan</td></tr>\n",
       "<tr><td style=\"text-align: right;\">11582</td><td style=\"text-align: right;\">nan</td><td style=\"text-align: right;\">nan</td><td style=\"text-align: right;\">  nan</td></tr>\n",
       "<tr><td style=\"text-align: right;\">11845</td><td style=\"text-align: right;\">nan</td><td style=\"text-align: right;\">nan</td><td style=\"text-align: right;\">  nan</td></tr>\n",
       "<tr><td style=\"text-align: right;\">12108</td><td style=\"text-align: right;\">nan</td><td style=\"text-align: right;\">nan</td><td style=\"text-align: right;\">  nan</td></tr>\n",
       "</tbody>\n",
       "</table>"
      ],
      "text/plain": [
       "<IPython.core.display.HTML object>"
      ]
     },
     "metadata": {},
     "output_type": "display_data"
    },
    {
     "name": "stdout",
     "output_type": "stream",
     "text": [
      "Qatar\n"
     ]
    },
    {
     "data": {
      "text/html": [
       "<table>\n",
       "<tbody>\n",
       "<tr><td style=\"text-align: right;\">  197</td><td>-1,684263449</td><td>0,445994768</td><td style=\"text-align: right;\">139194</td></tr>\n",
       "<tr><td style=\"text-align: right;\">  460</td><td>4,491725768 </td><td>4,398605764</td><td style=\"text-align: right;\">130464</td></tr>\n",
       "<tr><td style=\"text-align: right;\">  723</td><td>8,439397464 </td><td>4,15605527 </td><td style=\"text-align: right;\">117454</td></tr>\n",
       "<tr><td style=\"text-align: right;\">  986</td><td>15,97049027 </td><td>5,52799737 </td><td style=\"text-align: right;\">106801</td></tr>\n",
       "<tr><td style=\"text-align: right;\"> 1249</td><td>10,75980243 </td><td>11,46644996</td><td style=\"text-align: right;\">101424</td></tr>\n",
       "<tr><td style=\"text-align: right;\"> 1512</td><td>8,727700768 </td><td>9,96880914 </td><td style=\"text-align: right;\"> 94985</td></tr>\n",
       "<tr><td style=\"text-align: right;\"> 1775</td><td>12,10121868 </td><td>17,60778172</td><td style=\"text-align: right;\"> 88723</td></tr>\n",
       "<tr><td style=\"text-align: right;\"> 2038</td><td>21,96975565 </td><td>13,73256768</td><td style=\"text-align: right;\"> 84645</td></tr>\n",
       "<tr><td style=\"text-align: right;\"> 2301</td><td>9,877815839 </td><td>18,86718859</td><td style=\"text-align: right;\"> 78123</td></tr>\n",
       "<tr><td style=\"text-align: right;\"> 2564</td><td>11,47164238 </td><td>6,770384032</td><td style=\"text-align: right;\"> 75451</td></tr>\n",
       "<tr><td style=\"text-align: right;\"> 2827</td><td>28,37307499 </td><td>4,735645076</td><td style=\"text-align: right;\"> 70927</td></tr>\n",
       "<tr><td style=\"text-align: right;\"> 3090</td><td>29,6932042  </td><td>8,450466279</td><td style=\"text-align: right;\"> 69991</td></tr>\n",
       "<tr><td style=\"text-align: right;\"> 3353</td><td>3,874131665 </td><td>6,498740554</td><td style=\"text-align: right;\"> 65351</td></tr>\n",
       "<tr><td style=\"text-align: right;\"> 3616</td><td>1,720972411 </td><td>7,226916696</td><td style=\"text-align: right;\"> 66473</td></tr>\n",
       "<tr><td style=\"text-align: right;\"> 3879</td><td>2,061172876 </td><td>10,41666667</td><td style=\"text-align: right;\"> 64255</td></tr>\n",
       "<tr><td style=\"text-align: right;\"> 4142</td><td>-2,741012204</td><td>13,63834423</td><td style=\"text-align: right;\"> 62465</td></tr>\n",
       "<tr><td style=\"text-align: right;\"> 4405</td><td>nan         </td><td>nan        </td><td style=\"text-align: right;\"> 61067</td></tr>\n",
       "<tr><td style=\"text-align: right;\"> 4668</td><td>nan         </td><td>nan        </td><td style=\"text-align: right;\"> 60989</td></tr>\n",
       "<tr><td style=\"text-align: right;\"> 4931</td><td>nan         </td><td>nan        </td><td style=\"text-align: right;\"> 59912</td></tr>\n",
       "<tr><td style=\"text-align: right;\"> 5194</td><td>nan         </td><td>nan        </td><td style=\"text-align: right;\"> 55636</td></tr>\n",
       "<tr><td style=\"text-align: right;\"> 5457</td><td>nan         </td><td>nan        </td><td style=\"text-align: right;\"> 53631</td></tr>\n",
       "<tr><td style=\"text-align: right;\"> 5720</td><td>nan         </td><td>nan        </td><td style=\"text-align: right;\"> 52130</td></tr>\n",
       "<tr><td style=\"text-align: right;\"> 5983</td><td>nan         </td><td>nan        </td><td style=\"text-align: right;\"> 52016</td></tr>\n",
       "<tr><td style=\"text-align: right;\"> 6246</td><td>nan         </td><td>nan        </td><td style=\"text-align: right;\"> 49059</td></tr>\n",
       "<tr><td style=\"text-align: right;\"> 6509</td><td>nan         </td><td>nan        </td><td style=\"text-align: right;\"> 48785</td></tr>\n",
       "<tr><td style=\"text-align: right;\"> 6772</td><td>nan         </td><td>nan        </td><td style=\"text-align: right;\"> 48650</td></tr>\n",
       "<tr><td style=\"text-align: right;\"> 7035</td><td>nan         </td><td>nan        </td><td style=\"text-align: right;\"> 49657</td></tr>\n",
       "<tr><td style=\"text-align: right;\"> 7298</td><td>nan         </td><td>nan        </td><td style=\"text-align: right;\"> 48097</td></tr>\n",
       "<tr><td style=\"text-align: right;\"> 7561</td><td>nan         </td><td>nan        </td><td style=\"text-align: right;\"> 45367</td></tr>\n",
       "<tr><td style=\"text-align: right;\"> 7824</td><td>nan         </td><td>nan        </td><td style=\"text-align: right;\"> 42502</td></tr>\n",
       "<tr><td style=\"text-align: right;\"> 8087</td><td>nan         </td><td>nan        </td><td style=\"text-align: right;\"> 40636</td></tr>\n",
       "<tr><td style=\"text-align: right;\"> 8350</td><td>nan         </td><td>nan        </td><td style=\"text-align: right;\"> 37967</td></tr>\n",
       "<tr><td style=\"text-align: right;\"> 8613</td><td>nan         </td><td>nan        </td><td style=\"text-align: right;\"> 35920</td></tr>\n",
       "<tr><td style=\"text-align: right;\"> 8876</td><td>nan         </td><td>nan        </td><td style=\"text-align: right;\"> 34805</td></tr>\n",
       "<tr><td style=\"text-align: right;\"> 9139</td><td>nan         </td><td>nan        </td><td style=\"text-align: right;\"> 32618</td></tr>\n",
       "<tr><td style=\"text-align: right;\"> 9402</td><td>nan         </td><td>nan        </td><td style=\"text-align: right;\"> 30078</td></tr>\n",
       "<tr><td style=\"text-align: right;\"> 9665</td><td>nan         </td><td>nan        </td><td style=\"text-align: right;\"> 28472</td></tr>\n",
       "<tr><td style=\"text-align: right;\"> 9928</td><td>nan         </td><td>nan        </td><td style=\"text-align: right;\"> 27031</td></tr>\n",
       "<tr><td style=\"text-align: right;\">10191</td><td>nan         </td><td>nan        </td><td style=\"text-align: right;\"> 26065</td></tr>\n",
       "<tr><td style=\"text-align: right;\">10454</td><td>nan         </td><td>nan        </td><td style=\"text-align: right;\"> 25266</td></tr>\n",
       "<tr><td style=\"text-align: right;\">10717</td><td>nan         </td><td>nan        </td><td style=\"text-align: right;\"> 23615</td></tr>\n",
       "<tr><td style=\"text-align: right;\">10980</td><td>nan         </td><td>nan        </td><td style=\"text-align: right;\"> 22287</td></tr>\n",
       "<tr><td style=\"text-align: right;\">11243</td><td>nan         </td><td>nan        </td><td style=\"text-align: right;\"> 20237</td></tr>\n",
       "<tr><td style=\"text-align: right;\">11506</td><td>nan         </td><td>nan        </td><td style=\"text-align: right;\"> 19182</td></tr>\n",
       "<tr><td style=\"text-align: right;\">11769</td><td>nan         </td><td>nan        </td><td style=\"text-align: right;\"> 17511</td></tr>\n",
       "<tr><td style=\"text-align: right;\">12032</td><td>nan         </td><td>nan        </td><td style=\"text-align: right;\"> 15025</td></tr>\n",
       "<tr><td style=\"text-align: right;\">12295</td><td>nan         </td><td>nan        </td><td style=\"text-align: right;\">   nan</td></tr>\n",
       "</tbody>\n",
       "</table>"
      ],
      "text/plain": [
       "<IPython.core.display.HTML object>"
      ]
     },
     "metadata": {},
     "output_type": "display_data"
    },
    {
     "name": "stdout",
     "output_type": "stream",
     "text": [
      "United Arab Emirates\n"
     ]
    },
    {
     "data": {
      "text/html": [
       "<table>\n",
       "<tbody>\n",
       "<tr><td style=\"text-align: right;\">  248</td><td>0,913909239 </td><td>4,852036566 </td><td style=\"text-align: right;\">467723</td></tr>\n",
       "<tr><td style=\"text-align: right;\">  511</td><td>-15,42992021</td><td>5,556022404 </td><td style=\"text-align: right;\">460975</td></tr>\n",
       "<tr><td style=\"text-align: right;\">  774</td><td>9,399304121 </td><td>3,808249364 </td><td style=\"text-align: right;\">409776</td></tr>\n",
       "<tr><td style=\"text-align: right;\"> 1037</td><td>10,54306581 </td><td>5,999569883 </td><td style=\"text-align: right;\">376649</td></tr>\n",
       "<tr><td style=\"text-align: right;\"> 1300</td><td>-9,13626023 </td><td>1,901255932 </td><td style=\"text-align: right;\">364017</td></tr>\n",
       "<tr><td style=\"text-align: right;\"> 1563</td><td>11,16129205 </td><td>8,373389148 </td><td style=\"text-align: right;\">334956</td></tr>\n",
       "<tr><td style=\"text-align: right;\"> 1826</td><td>-23,3096757 </td><td>2,633586643 </td><td style=\"text-align: right;\">326588</td></tr>\n",
       "<tr><td style=\"text-align: right;\"> 2089</td><td>-21,88907259</td><td>-14,05268022</td><td style=\"text-align: right;\">304250</td></tr>\n",
       "<tr><td style=\"text-align: right;\"> 2352</td><td>11,90374421 </td><td>10,26768381 </td><td style=\"text-align: right;\">   nan</td></tr>\n",
       "<tr><td style=\"text-align: right;\"> 2615</td><td>10,9814033  </td><td>1,872864158 </td><td style=\"text-align: right;\">284034</td></tr>\n",
       "<tr><td style=\"text-align: right;\"> 2878</td><td>12,81190512 </td><td>7,26056429  </td><td style=\"text-align: right;\">272331</td></tr>\n",
       "<tr><td style=\"text-align: right;\"> 3141</td><td>1,509602635 </td><td>6,572405647 </td><td style=\"text-align: right;\">262807</td></tr>\n",
       "<tr><td style=\"text-align: right;\"> 3404</td><td>9,379666001 </td><td>7,916620108 </td><td style=\"text-align: right;\">254602</td></tr>\n",
       "<tr><td style=\"text-align: right;\"> 3667</td><td>2,384902208 </td><td>4,287614935 </td><td style=\"text-align: right;\">248370</td></tr>\n",
       "<tr><td style=\"text-align: right;\"> 3930</td><td>5,993637551 </td><td>2,896797895 </td><td style=\"text-align: right;\">285744</td></tr>\n",
       "<tr><td style=\"text-align: right;\"> 4193</td><td>nan         </td><td>nan         </td><td style=\"text-align: right;\">280248</td></tr>\n",
       "<tr><td style=\"text-align: right;\"> 4456</td><td>nan         </td><td>nan         </td><td style=\"text-align: right;\">273144</td></tr>\n",
       "<tr><td style=\"text-align: right;\"> 4719</td><td>nan         </td><td>nan         </td><td style=\"text-align: right;\">270486</td></tr>\n",
       "<tr><td style=\"text-align: right;\"> 4982</td><td>nan         </td><td>nan         </td><td style=\"text-align: right;\">262653</td></tr>\n",
       "<tr><td style=\"text-align: right;\"> 5245</td><td>nan         </td><td>nan         </td><td style=\"text-align: right;\">259509</td></tr>\n",
       "<tr><td style=\"text-align: right;\"> 5508</td><td>nan         </td><td>nan         </td><td style=\"text-align: right;\">260919</td></tr>\n",
       "<tr><td style=\"text-align: right;\"> 5771</td><td>nan         </td><td>nan         </td><td style=\"text-align: right;\">262628</td></tr>\n",
       "<tr><td style=\"text-align: right;\"> 6034</td><td>nan         </td><td>nan         </td><td style=\"text-align: right;\">251182</td></tr>\n",
       "<tr><td style=\"text-align: right;\"> 6297</td><td>nan         </td><td>nan         </td><td style=\"text-align: right;\">238469</td></tr>\n",
       "<tr><td style=\"text-align: right;\"> 6560</td><td>nan         </td><td>nan         </td><td style=\"text-align: right;\">231674</td></tr>\n",
       "<tr><td style=\"text-align: right;\"> 6823</td><td>nan         </td><td>nan         </td><td style=\"text-align: right;\">228980</td></tr>\n",
       "<tr><td style=\"text-align: right;\"> 7086</td><td>nan         </td><td>nan         </td><td style=\"text-align: right;\">215532</td></tr>\n",
       "<tr><td style=\"text-align: right;\"> 7349</td><td>nan         </td><td>nan         </td><td style=\"text-align: right;\">197869</td></tr>\n",
       "<tr><td style=\"text-align: right;\"> 7612</td><td>nan         </td><td>nan         </td><td style=\"text-align: right;\">180270</td></tr>\n",
       "<tr><td style=\"text-align: right;\"> 7875</td><td>nan         </td><td>nan         </td><td style=\"text-align: right;\">165463</td></tr>\n",
       "<tr><td style=\"text-align: right;\"> 8138</td><td>nan         </td><td>nan         </td><td style=\"text-align: right;\">152125</td></tr>\n",
       "<tr><td style=\"text-align: right;\"> 8401</td><td>nan         </td><td>nan         </td><td style=\"text-align: right;\">137700</td></tr>\n",
       "<tr><td style=\"text-align: right;\"> 8664</td><td>nan         </td><td>nan         </td><td style=\"text-align: right;\">126726</td></tr>\n",
       "<tr><td style=\"text-align: right;\"> 8927</td><td>nan         </td><td>nan         </td><td style=\"text-align: right;\">115211</td></tr>\n",
       "<tr><td style=\"text-align: right;\"> 9190</td><td>nan         </td><td>nan         </td><td style=\"text-align: right;\">103937</td></tr>\n",
       "<tr><td style=\"text-align: right;\"> 9453</td><td>nan         </td><td>nan         </td><td style=\"text-align: right;\"> 88617</td></tr>\n",
       "<tr><td style=\"text-align: right;\"> 9716</td><td>nan         </td><td>nan         </td><td style=\"text-align: right;\"> 80470</td></tr>\n",
       "<tr><td style=\"text-align: right;\"> 9979</td><td>nan         </td><td>nan         </td><td style=\"text-align: right;\"> 72627</td></tr>\n",
       "<tr><td style=\"text-align: right;\">10242</td><td>nan         </td><td>nan         </td><td style=\"text-align: right;\"> 67058</td></tr>\n",
       "<tr><td style=\"text-align: right;\">10505</td><td>nan         </td><td>nan         </td><td style=\"text-align: right;\"> 60742</td></tr>\n",
       "<tr><td style=\"text-align: right;\">10768</td><td>nan         </td><td>nan         </td><td style=\"text-align: right;\"> 52207</td></tr>\n",
       "<tr><td style=\"text-align: right;\">11031</td><td>nan         </td><td>nan         </td><td style=\"text-align: right;\"> 40229</td></tr>\n",
       "<tr><td style=\"text-align: right;\">11294</td><td>nan         </td><td>nan         </td><td style=\"text-align: right;\"> 34731</td></tr>\n",
       "<tr><td style=\"text-align: right;\">11557</td><td>nan         </td><td>nan         </td><td style=\"text-align: right;\"> 30495</td></tr>\n",
       "<tr><td style=\"text-align: right;\">11820</td><td>nan         </td><td>nan         </td><td style=\"text-align: right;\"> 26130</td></tr>\n",
       "<tr><td style=\"text-align: right;\">12083</td><td>nan         </td><td>nan         </td><td style=\"text-align: right;\"> 22009</td></tr>\n",
       "<tr><td style=\"text-align: right;\">12346</td><td>nan         </td><td>nan         </td><td style=\"text-align: right;\">   nan</td></tr>\n",
       "</tbody>\n",
       "</table>"
      ],
      "text/plain": [
       "<IPython.core.display.HTML object>"
      ]
     },
     "metadata": {},
     "output_type": "display_data"
    }
   ],
   "source": [
    "features = ['Final consumption expenditure (annual % growth)', \n",
    "            'Manufacturing, value added (annual % growth)', \n",
    "            'Enrolment in primary education, both sexes (number) [SE.PRM.ENRL]']\n",
    "countries = ['Aruba', 'Qatar', 'United Arab Emirates']\n",
    "\n",
    "for c in countries:\n",
    "    country = df[df['Country Name'] == c][features]\n",
    "    print(c)\n",
    "    display(HTML(tabulate.tabulate(country, tablefmt='html')))\n",
    "    "
   ]
  },
  {
   "cell_type": "code",
   "execution_count": null,
   "metadata": {},
   "outputs": [],
   "source": []
  }
 ],
 "metadata": {
  "kernelspec": {
   "display_name": "Python 3",
   "language": "python",
   "name": "python3"
  },
  "language_info": {
   "codemirror_mode": {
    "name": "ipython",
    "version": 3
   },
   "file_extension": ".py",
   "mimetype": "text/x-python",
   "name": "python",
   "nbconvert_exporter": "python",
   "pygments_lexer": "ipython3",
   "version": "3.8.5"
  }
 },
 "nbformat": 4,
 "nbformat_minor": 4
}
