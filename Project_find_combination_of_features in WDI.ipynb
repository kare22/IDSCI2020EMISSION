{
  "nbformat": 4,
  "nbformat_minor": 0,
  "metadata": {
    "colab": {
      "name": "Project find combination of features.ipynb",
      "provenance": [],
      "collapsed_sections": []
    },
    "kernelspec": {
      "name": "python3",
      "display_name": "Python 3"
    }
  },
  "cells": [
    {
      "cell_type": "code",
      "metadata": {
        "id": "0GsEU_GKL80I"
      },
      "source": [
        "from sklearn.model_selection import train_test_split\n",
        "from sklearn import linear_model\n",
        "import numpy as np\n",
        "import pandas as pd"
      ],
      "execution_count": 2,
      "outputs": []
    },
    {
      "cell_type": "code",
      "metadata": {
        "colab": {
          "base_uri": "https://localhost:8080/"
        },
        "id": "UYRHIwqmLPZM",
        "outputId": "0eb9bc5b-d0b1-4629-9063-e160c32b527d"
      },
      "source": [
        "import os\n",
        "from google.colab import drive\n",
        "drive.mount('/content/drive')\n",
        "os.chdir(\"/content/drive/My Drive/Colab Notebooks/IDS\")"
      ],
      "execution_count": 1,
      "outputs": [
        {
          "output_type": "stream",
          "text": [
            "Drive already mounted at /content/drive; to attempt to forcibly remount, call drive.mount(\"/content/drive\", force_remount=True).\n"
          ],
          "name": "stdout"
        }
      ]
    },
    {
      "cell_type": "code",
      "metadata": {
        "id": "hMu8S0BaLjA_",
        "colab": {
          "base_uri": "https://localhost:8080/"
        },
        "outputId": "59c8b6a2-a780-4f59-c534-77ab18978e14"
      },
      "source": [
        "failinimi = 'WDI.csv'\n",
        "data = pd.read_csv(failinimi, delimiter=\";\", decimal=',')\n",
        "\n",
        "years = []\n",
        "for i in range(1960,1981):\n",
        "  years.append(str(i))\n",
        "print(years)\n",
        "\n",
        "#Drop years with sparse data\n",
        "data = data.drop(data[data.Time.isin(years)].index)\n",
        "#Drop also columns that has no mean to find features that impact CO2 emissions\n",
        "data = data.drop(columns=['Time', 'Country Name'])\n",
        "data = data.dropna()"
      ],
      "execution_count": 3,
      "outputs": [
        {
          "output_type": "stream",
          "text": [
            "['1960', '1961', '1962', '1963', '1964', '1965', '1966', '1967', '1968', '1969', '1970', '1971', '1972', '1973', '1974', '1975', '1976', '1977', '1978', '1979', '1980']\n"
          ],
          "name": "stdout"
        }
      ]
    },
    {
      "cell_type": "code",
      "metadata": {
        "colab": {
          "base_uri": "https://localhost:8080/",
          "height": 531
        },
        "id": "H7nDn8NvwAjz",
        "outputId": "1f400ef7-4bbe-421a-cd30-ad2d14c4f27f"
      },
      "source": [
        "data"
      ],
      "execution_count": 4,
      "outputs": [
        {
          "output_type": "execute_result",
          "data": {
            "text/html": [
              "<div>\n",
              "<style scoped>\n",
              "    .dataframe tbody tr th:only-of-type {\n",
              "        vertical-align: middle;\n",
              "    }\n",
              "\n",
              "    .dataframe tbody tr th {\n",
              "        vertical-align: top;\n",
              "    }\n",
              "\n",
              "    .dataframe thead th {\n",
              "        text-align: right;\n",
              "    }\n",
              "</style>\n",
              "<table border=\"1\" class=\"dataframe\">\n",
              "  <thead>\n",
              "    <tr style=\"text-align: right;\">\n",
              "      <th></th>\n",
              "      <th>Energy use (kg of oil equivalent per capita)</th>\n",
              "      <th>GDP per capita growth (annual %)</th>\n",
              "      <th>CO2 emissions (metric tons per capita)</th>\n",
              "      <th>Industry (including construction), value added (annual % growth)</th>\n",
              "      <th>Manufacturing, value added (annual % growth)</th>\n",
              "      <th>Urban population (% of total population)</th>\n",
              "      <th>Merchandise imports (current US$)</th>\n",
              "      <th>Merchandise exports (current US$)</th>\n",
              "      <th>Population growth (annual %)</th>\n",
              "      <th>Final consumption expenditure (annual % growth)</th>\n",
              "      <th>Alternative and nuclear energy (% of total energy use)</th>\n",
              "      <th>Fossil fuel energy consumption (% of total)</th>\n",
              "    </tr>\n",
              "  </thead>\n",
              "  <tbody>\n",
              "    <tr>\n",
              "      <th>5551</th>\n",
              "      <td>1440.780224</td>\n",
              "      <td>-6.668514</td>\n",
              "      <td>3.600810</td>\n",
              "      <td>-10.663334</td>\n",
              "      <td>-12.070848</td>\n",
              "      <td>83.313000</td>\n",
              "      <td>9.430000e+09</td>\n",
              "      <td>9.143000e+09</td>\n",
              "      <td>1.571960</td>\n",
              "      <td>-3.583958</td>\n",
              "      <td>4.890517</td>\n",
              "      <td>90.017182</td>\n",
              "    </tr>\n",
              "    <tr>\n",
              "      <th>5554</th>\n",
              "      <td>4694.676425</td>\n",
              "      <td>1.711080</td>\n",
              "      <td>15.432501</td>\n",
              "      <td>3.564033</td>\n",
              "      <td>2.048696</td>\n",
              "      <td>85.700000</td>\n",
              "      <td>2.621500e+10</td>\n",
              "      <td>2.147700e+10</td>\n",
              "      <td>1.586853</td>\n",
              "      <td>3.546086</td>\n",
              "      <td>1.762525</td>\n",
              "      <td>92.775579</td>\n",
              "    </tr>\n",
              "    <tr>\n",
              "      <th>5555</th>\n",
              "      <td>2897.009398</td>\n",
              "      <td>-0.398620</td>\n",
              "      <td>7.416161</td>\n",
              "      <td>-1.946131</td>\n",
              "      <td>0.006903</td>\n",
              "      <td>65.364000</td>\n",
              "      <td>2.104300e+10</td>\n",
              "      <td>1.584100e+10</td>\n",
              "      <td>0.255018</td>\n",
              "      <td>1.423855</td>\n",
              "      <td>12.098725</td>\n",
              "      <td>83.963760</td>\n",
              "    </tr>\n",
              "    <tr>\n",
              "      <th>5559</th>\n",
              "      <td>104.861607</td>\n",
              "      <td>4.443148</td>\n",
              "      <td>0.097003</td>\n",
              "      <td>5.009258</td>\n",
              "      <td>4.318814</td>\n",
              "      <td>15.801000</td>\n",
              "      <td>2.699000e+09</td>\n",
              "      <td>7.910000e+08</td>\n",
              "      <td>2.636995</td>\n",
              "      <td>-2.036555</td>\n",
              "      <td>0.626875</td>\n",
              "      <td>32.712616</td>\n",
              "    </tr>\n",
              "    <tr>\n",
              "      <th>5564</th>\n",
              "      <td>353.462764</td>\n",
              "      <td>6.990661</td>\n",
              "      <td>0.112310</td>\n",
              "      <td>19.099072</td>\n",
              "      <td>-6.024097</td>\n",
              "      <td>28.010000</td>\n",
              "      <td>5.430000e+08</td>\n",
              "      <td>3.400000e+07</td>\n",
              "      <td>2.732265</td>\n",
              "      <td>9.115025</td>\n",
              "      <td>0.000000</td>\n",
              "      <td>7.291785</td>\n",
              "    </tr>\n",
              "    <tr>\n",
              "      <th>...</th>\n",
              "      <td>...</td>\n",
              "      <td>...</td>\n",
              "      <td>...</td>\n",
              "      <td>...</td>\n",
              "      <td>...</td>\n",
              "      <td>...</td>\n",
              "      <td>...</td>\n",
              "      <td>...</td>\n",
              "      <td>...</td>\n",
              "      <td>...</td>\n",
              "      <td>...</td>\n",
              "      <td>...</td>\n",
              "    </tr>\n",
              "    <tr>\n",
              "      <th>14748</th>\n",
              "      <td>3278.352078</td>\n",
              "      <td>2.133926</td>\n",
              "      <td>6.449699</td>\n",
              "      <td>2.830677</td>\n",
              "      <td>4.072303</td>\n",
              "      <td>73.908184</td>\n",
              "      <td>4.609270e+12</td>\n",
              "      <td>4.929050e+12</td>\n",
              "      <td>0.218022</td>\n",
              "      <td>1.873950</td>\n",
              "      <td>19.778166</td>\n",
              "      <td>69.886026</td>\n",
              "    </tr>\n",
              "    <tr>\n",
              "      <th>14751</th>\n",
              "      <td>4605.921389</td>\n",
              "      <td>1.760227</td>\n",
              "      <td>10.649120</td>\n",
              "      <td>2.161468</td>\n",
              "      <td>2.402055</td>\n",
              "      <td>80.320929</td>\n",
              "      <td>1.152510e+13</td>\n",
              "      <td>1.114970e+13</td>\n",
              "      <td>0.568071</td>\n",
              "      <td>2.250090</td>\n",
              "      <td>13.901704</td>\n",
              "      <td>79.081901</td>\n",
              "    </tr>\n",
              "    <tr>\n",
              "      <th>14769</th>\n",
              "      <td>6888.874114</td>\n",
              "      <td>1.912329</td>\n",
              "      <td>15.928306</td>\n",
              "      <td>1.547004</td>\n",
              "      <td>0.502192</td>\n",
              "      <td>81.633083</td>\n",
              "      <td>2.746360e+12</td>\n",
              "      <td>1.912660e+12</td>\n",
              "      <td>0.734794</td>\n",
              "      <td>3.234141</td>\n",
              "      <td>12.750786</td>\n",
              "      <td>81.502287</td>\n",
              "    </tr>\n",
              "    <tr>\n",
              "      <th>14771</th>\n",
              "      <td>4130.813646</td>\n",
              "      <td>1.754260</td>\n",
              "      <td>9.124481</td>\n",
              "      <td>2.105228</td>\n",
              "      <td>2.510732</td>\n",
              "      <td>80.000667</td>\n",
              "      <td>1.031390e+13</td>\n",
              "      <td>9.668150e+12</td>\n",
              "      <td>0.657284</td>\n",
              "      <td>2.390075</td>\n",
              "      <td>13.354083</td>\n",
              "      <td>79.676298</td>\n",
              "    </tr>\n",
              "    <tr>\n",
              "      <th>14774</th>\n",
              "      <td>4761.902615</td>\n",
              "      <td>1.658467</td>\n",
              "      <td>10.148229</td>\n",
              "      <td>1.528520</td>\n",
              "      <td>1.536643</td>\n",
              "      <td>80.745893</td>\n",
              "      <td>1.014850e+13</td>\n",
              "      <td>9.525440e+12</td>\n",
              "      <td>0.445419</td>\n",
              "      <td>2.250785</td>\n",
              "      <td>14.224926</td>\n",
              "      <td>78.995522</td>\n",
              "    </tr>\n",
              "  </tbody>\n",
              "</table>\n",
              "<p>3669 rows × 12 columns</p>\n",
              "</div>"
            ],
            "text/plain": [
              "       Energy use (kg of oil equivalent per capita)  ...  Fossil fuel energy consumption (% of total)\n",
              "5551                                    1440.780224  ...                                    90.017182\n",
              "5554                                    4694.676425  ...                                    92.775579\n",
              "5555                                    2897.009398  ...                                    83.963760\n",
              "5559                                     104.861607  ...                                    32.712616\n",
              "5564                                     353.462764  ...                                     7.291785\n",
              "...                                             ...  ...                                          ...\n",
              "14748                                   3278.352078  ...                                    69.886026\n",
              "14751                                   4605.921389  ...                                    79.081901\n",
              "14769                                   6888.874114  ...                                    81.502287\n",
              "14771                                   4130.813646  ...                                    79.676298\n",
              "14774                                   4761.902615  ...                                    78.995522\n",
              "\n",
              "[3669 rows x 12 columns]"
            ]
          },
          "metadata": {
            "tags": []
          },
          "execution_count": 4
        }
      ]
    },
    {
      "cell_type": "code",
      "metadata": {
        "colab": {
          "base_uri": "https://localhost:8080/"
        },
        "id": "JeCoDtd_2Moj",
        "outputId": "94678466-169b-4a93-95c2-c8fb16542f46"
      },
      "source": [
        "data.info()"
      ],
      "execution_count": 5,
      "outputs": [
        {
          "output_type": "stream",
          "text": [
            "<class 'pandas.core.frame.DataFrame'>\n",
            "Int64Index: 3669 entries, 5551 to 14774\n",
            "Data columns (total 12 columns):\n",
            " #   Column                                                            Non-Null Count  Dtype  \n",
            "---  ------                                                            --------------  -----  \n",
            " 0   Energy use (kg of oil equivalent per capita)                      3669 non-null   float64\n",
            " 1   GDP per capita growth (annual %)                                  3669 non-null   float64\n",
            " 2   CO2 emissions (metric tons per capita)                            3669 non-null   float64\n",
            " 3   Industry (including construction), value added (annual % growth)  3669 non-null   float64\n",
            " 4   Manufacturing, value added (annual % growth)                      3669 non-null   float64\n",
            " 5   Urban population (% of total population)                          3669 non-null   float64\n",
            " 6   Merchandise imports (current US$)                                 3669 non-null   float64\n",
            " 7   Merchandise exports (current US$)                                 3669 non-null   float64\n",
            " 8   Population growth (annual %)                                      3669 non-null   float64\n",
            " 9   Final consumption expenditure (annual % growth)                   3669 non-null   float64\n",
            " 10  Alternative and nuclear energy (% of total energy use)            3669 non-null   float64\n",
            " 11  Fossil fuel energy consumption (% of total)                       3669 non-null   float64\n",
            "dtypes: float64(12)\n",
            "memory usage: 372.6 KB\n"
          ],
          "name": "stdout"
        }
      ]
    },
    {
      "cell_type": "code",
      "metadata": {
        "colab": {
          "base_uri": "https://localhost:8080/"
        },
        "id": "Untmb_5SDIos",
        "outputId": "c56f1f41-1fa4-432e-e54d-9dcb0bfaeb26"
      },
      "source": [
        "#Checking, are there any Nan's in dataframe.\n",
        "print(len(data) - data.count())\n",
        "#data.isnull()"
      ],
      "execution_count": 6,
      "outputs": [
        {
          "output_type": "stream",
          "text": [
            "Energy use (kg of oil equivalent per capita)                        0\n",
            "GDP per capita growth (annual %)                                    0\n",
            "CO2 emissions (metric tons per capita)                              0\n",
            "Industry (including construction), value added (annual % growth)    0\n",
            "Manufacturing, value added (annual % growth)                        0\n",
            "Urban population (% of total population)                            0\n",
            "Merchandise imports (current US$)                                   0\n",
            "Merchandise exports (current US$)                                   0\n",
            "Population growth (annual %)                                        0\n",
            "Final consumption expenditure (annual % growth)                     0\n",
            "Alternative and nuclear energy (% of total energy use)              0\n",
            "Fossil fuel energy consumption (% of total)                         0\n",
            "dtype: int64\n"
          ],
          "name": "stdout"
        }
      ]
    },
    {
      "cell_type": "code",
      "metadata": {
        "id": "rR7BENQUA_uV"
      },
      "source": [
        "#cols = data.columns.drop('Country Name')\n",
        "#data[cols] = data[cols].apply(pd.to_numeric)\n",
        "#data.dtypes"
      ],
      "execution_count": 125,
      "outputs": []
    },
    {
      "cell_type": "code",
      "metadata": {
        "id": "Z520I8toG3Vx"
      },
      "source": [
        "#1-hot for column 'Country Name'\n",
        "#onehot = pd.get_dummies(data['Country Name']) \n",
        "#data = data.join(onehot)\n",
        "#data = data.drop(columns='Country Name')"
      ],
      "execution_count": 139,
      "outputs": []
    },
    {
      "cell_type": "code",
      "metadata": {
        "colab": {
          "base_uri": "https://localhost:8080/"
        },
        "id": "-LpNBOYixLey",
        "outputId": "6fad09eb-57fb-43c8-e33d-e1f41528cf16"
      },
      "source": [
        "cols = list(data.columns)\n",
        "#data[cols] = pd.to_numeric(data[cols])\n",
        "#columns.remove('CO2 emissions (metric tons per capita)')\n",
        "print(cols)\n",
        "print(len(cols))"
      ],
      "execution_count": 7,
      "outputs": [
        {
          "output_type": "stream",
          "text": [
            "['Energy use (kg of oil equivalent per capita)', 'GDP per capita growth (annual %)', 'CO2 emissions (metric tons per capita)', 'Industry (including construction), value added (annual % growth)', 'Manufacturing, value added (annual % growth)', 'Urban population (% of total population)', 'Merchandise imports (current US$)', 'Merchandise exports (current US$)', 'Population growth (annual %)', 'Final consumption expenditure (annual % growth)', 'Alternative and nuclear energy (% of total energy use)', 'Fossil fuel energy consumption (% of total)']\n",
            "12\n"
          ],
          "name": "stdout"
        }
      ]
    },
    {
      "cell_type": "code",
      "metadata": {
        "colab": {
          "base_uri": "https://localhost:8080/"
        },
        "id": "X2O5e3ui0Lu1",
        "outputId": "680c6e59-b1d2-4051-966e-91da67d1ffc7"
      },
      "source": [
        "#Remove predicting type\n",
        "cols.remove('CO2 emissions (metric tons per capita)')\n",
        "print(cols)\n",
        "print(len(cols))"
      ],
      "execution_count": 8,
      "outputs": [
        {
          "output_type": "stream",
          "text": [
            "['Energy use (kg of oil equivalent per capita)', 'GDP per capita growth (annual %)', 'Industry (including construction), value added (annual % growth)', 'Manufacturing, value added (annual % growth)', 'Urban population (% of total population)', 'Merchandise imports (current US$)', 'Merchandise exports (current US$)', 'Population growth (annual %)', 'Final consumption expenditure (annual % growth)', 'Alternative and nuclear energy (% of total energy use)', 'Fossil fuel energy consumption (% of total)']\n",
            "11\n"
          ],
          "name": "stdout"
        }
      ]
    },
    {
      "cell_type": "code",
      "metadata": {
        "colab": {
          "base_uri": "https://localhost:8080/",
          "height": 313
        },
        "id": "v2vR8iRWHKWv",
        "outputId": "31373a78-4328-411c-a5df-813cdd953a96"
      },
      "source": [
        "data.head()"
      ],
      "execution_count": 9,
      "outputs": [
        {
          "output_type": "execute_result",
          "data": {
            "text/html": [
              "<div>\n",
              "<style scoped>\n",
              "    .dataframe tbody tr th:only-of-type {\n",
              "        vertical-align: middle;\n",
              "    }\n",
              "\n",
              "    .dataframe tbody tr th {\n",
              "        vertical-align: top;\n",
              "    }\n",
              "\n",
              "    .dataframe thead th {\n",
              "        text-align: right;\n",
              "    }\n",
              "</style>\n",
              "<table border=\"1\" class=\"dataframe\">\n",
              "  <thead>\n",
              "    <tr style=\"text-align: right;\">\n",
              "      <th></th>\n",
              "      <th>Energy use (kg of oil equivalent per capita)</th>\n",
              "      <th>GDP per capita growth (annual %)</th>\n",
              "      <th>CO2 emissions (metric tons per capita)</th>\n",
              "      <th>Industry (including construction), value added (annual % growth)</th>\n",
              "      <th>Manufacturing, value added (annual % growth)</th>\n",
              "      <th>Urban population (% of total population)</th>\n",
              "      <th>Merchandise imports (current US$)</th>\n",
              "      <th>Merchandise exports (current US$)</th>\n",
              "      <th>Population growth (annual %)</th>\n",
              "      <th>Final consumption expenditure (annual % growth)</th>\n",
              "      <th>Alternative and nuclear energy (% of total energy use)</th>\n",
              "      <th>Fossil fuel energy consumption (% of total)</th>\n",
              "    </tr>\n",
              "  </thead>\n",
              "  <tbody>\n",
              "    <tr>\n",
              "      <th>5551</th>\n",
              "      <td>1440.780224</td>\n",
              "      <td>-6.668514</td>\n",
              "      <td>3.600810</td>\n",
              "      <td>-10.663334</td>\n",
              "      <td>-12.070848</td>\n",
              "      <td>83.313</td>\n",
              "      <td>9.430000e+09</td>\n",
              "      <td>9.143000e+09</td>\n",
              "      <td>1.571960</td>\n",
              "      <td>-3.583958</td>\n",
              "      <td>4.890517</td>\n",
              "      <td>90.017182</td>\n",
              "    </tr>\n",
              "    <tr>\n",
              "      <th>5554</th>\n",
              "      <td>4694.676425</td>\n",
              "      <td>1.711080</td>\n",
              "      <td>15.432501</td>\n",
              "      <td>3.564033</td>\n",
              "      <td>2.048696</td>\n",
              "      <td>85.700</td>\n",
              "      <td>2.621500e+10</td>\n",
              "      <td>2.147700e+10</td>\n",
              "      <td>1.586853</td>\n",
              "      <td>3.546086</td>\n",
              "      <td>1.762525</td>\n",
              "      <td>92.775579</td>\n",
              "    </tr>\n",
              "    <tr>\n",
              "      <th>5555</th>\n",
              "      <td>2897.009398</td>\n",
              "      <td>-0.398620</td>\n",
              "      <td>7.416161</td>\n",
              "      <td>-1.946131</td>\n",
              "      <td>0.006903</td>\n",
              "      <td>65.364</td>\n",
              "      <td>2.104300e+10</td>\n",
              "      <td>1.584100e+10</td>\n",
              "      <td>0.255018</td>\n",
              "      <td>1.423855</td>\n",
              "      <td>12.098725</td>\n",
              "      <td>83.963760</td>\n",
              "    </tr>\n",
              "    <tr>\n",
              "      <th>5559</th>\n",
              "      <td>104.861607</td>\n",
              "      <td>4.443148</td>\n",
              "      <td>0.097003</td>\n",
              "      <td>5.009258</td>\n",
              "      <td>4.318814</td>\n",
              "      <td>15.801</td>\n",
              "      <td>2.699000e+09</td>\n",
              "      <td>7.910000e+08</td>\n",
              "      <td>2.636995</td>\n",
              "      <td>-2.036555</td>\n",
              "      <td>0.626875</td>\n",
              "      <td>32.712616</td>\n",
              "    </tr>\n",
              "    <tr>\n",
              "      <th>5564</th>\n",
              "      <td>353.462764</td>\n",
              "      <td>6.990661</td>\n",
              "      <td>0.112310</td>\n",
              "      <td>19.099072</td>\n",
              "      <td>-6.024097</td>\n",
              "      <td>28.010</td>\n",
              "      <td>5.430000e+08</td>\n",
              "      <td>3.400000e+07</td>\n",
              "      <td>2.732265</td>\n",
              "      <td>9.115025</td>\n",
              "      <td>0.000000</td>\n",
              "      <td>7.291785</td>\n",
              "    </tr>\n",
              "  </tbody>\n",
              "</table>\n",
              "</div>"
            ],
            "text/plain": [
              "      Energy use (kg of oil equivalent per capita)  ...  Fossil fuel energy consumption (% of total)\n",
              "5551                                   1440.780224  ...                                    90.017182\n",
              "5554                                   4694.676425  ...                                    92.775579\n",
              "5555                                   2897.009398  ...                                    83.963760\n",
              "5559                                    104.861607  ...                                    32.712616\n",
              "5564                                    353.462764  ...                                     7.291785\n",
              "\n",
              "[5 rows x 12 columns]"
            ]
          },
          "metadata": {
            "tags": []
          },
          "execution_count": 9
        }
      ]
    },
    {
      "cell_type": "code",
      "metadata": {
        "colab": {
          "base_uri": "https://localhost:8080/"
        },
        "id": "Zs4T4gwox4-2",
        "outputId": "2ddd6119-be8a-4e53-81ba-7dc5577fc904"
      },
      "source": [
        "#Recursive method to find combinations in list\n",
        "def combinations(L):\n",
        "  if len(L) == 0:\n",
        "    return [[]]\n",
        "  result = []\n",
        "  for c in combinations(L[1:]):\n",
        "    result += [c, c+[L[0]]]\n",
        "  return result\n",
        "\n",
        "c = combinations(['x','y','z'])[1:]\n",
        "print(c)"
      ],
      "execution_count": 10,
      "outputs": [
        {
          "output_type": "stream",
          "text": [
            "[['x'], ['y'], ['y', 'x'], ['z'], ['z', 'x'], ['z', 'y'], ['z', 'y', 'x']]\n"
          ],
          "name": "stdout"
        }
      ]
    },
    {
      "cell_type": "code",
      "metadata": {
        "colab": {
          "base_uri": "https://localhost:8080/"
        },
        "id": "Flj8seaqysrx",
        "outputId": "7946f38f-5757-4c31-dc5b-cea8acb20f5c"
      },
      "source": [
        "#Model with LinearRegression to predict the combination of features \n",
        "#that gives the smallest mean absolute error \n",
        "\n",
        "X = data[cols]\n",
        "y = data[['CO2 emissions (metric tons per capita)']]\n",
        "\n",
        "features = combinations(cols)[1:]\n",
        "best = 100\n",
        "combi = \"\"\n",
        "for f in features:\n",
        "  X_train, X_test, y_train, y_test = train_test_split(X[f].values, y.values, test_size=0.3, random_state=0)\n",
        "  model = linear_model.LinearRegression()\n",
        "  model.fit(X_train, y_train)\n",
        "  y_pred = model.predict(X_test)\n",
        "\n",
        "  result = np.mean(np.abs(y_test - y_pred))\n",
        "  if result < best:\n",
        "    best = result\n",
        "    combi = f\n",
        "\n",
        "print(combi)\n",
        "print(result)\n"
      ],
      "execution_count": 11,
      "outputs": [
        {
          "output_type": "stream",
          "text": [
            "['Fossil fuel energy consumption (% of total)', 'Alternative and nuclear energy (% of total energy use)', 'Industry (including construction), value added (annual % growth)', 'GDP per capita growth (annual %)', 'Energy use (kg of oil equivalent per capita)']\n",
            "1.0559951780266006\n"
          ],
          "name": "stdout"
        }
      ]
    }
  ]
}