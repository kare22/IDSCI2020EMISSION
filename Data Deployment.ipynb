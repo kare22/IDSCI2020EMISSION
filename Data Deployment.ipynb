{
 "cells": [
  {
   "cell_type": "code",
   "execution_count": 1,
   "metadata": {},
   "outputs": [],
   "source": [
    "#Python3!!\n",
    "import pandas as pd\n",
    "import numpy as np\n",
    "import functools as ft"
   ]
  },
  {
   "cell_type": "code",
   "execution_count": 2,
   "metadata": {},
   "outputs": [],
   "source": [
    "#Unite all sets into one big set\n",
    "\n",
    "#poverty = pd.read_csv('resources/poverty.csv') --> deprecated\n",
    "wdi = pd.read_csv('resources/WDI.csv', delimiter=';')\n",
    "education = pd.read_csv('resources/Data_Extract_From_Education_Statistics_-_All_Indicators.csv')\n",
    "label = pd.read_csv('resources/label-set.csv')\n",
    "\n",
    "education = education.replace({'..':np.nan})\n",
    "wdi = wdi.replace({'..':np.nan})\n",
    "#poverty = poverty.replace({'..':np.nan})\n",
    "label = label.replace({'..':np.nan})"
   ]
  },
  {
   "cell_type": "code",
   "execution_count": 3,
   "metadata": {
    "scrolled": false
   },
   "outputs": [],
   "source": [
    "df = ft.reduce(lambda left,right: pd.merge(left,right,on=['Time', 'Country Name']), [education, wdi, label])"
   ]
  },
  {
   "cell_type": "code",
   "execution_count": 4,
   "metadata": {
    "scrolled": false
   },
   "outputs": [],
   "source": [
    "df = df.loc[df['CO2 emissions (metric tons per capita) [EN.ATM.CO2E.PC]'] != 'NaN']"
   ]
  },
  {
   "cell_type": "code",
   "execution_count": 5,
   "metadata": {},
   "outputs": [],
   "source": [
    "df = df.rename(columns={\"Time Code_x\": \"Time Code\", \"Country Name_x\": \"Country Name\"})\n",
    "del df['Time Code_y']\n",
    "del df['Country Code_x']"
   ]
  },
  {
   "cell_type": "code",
   "execution_count": 6,
   "metadata": {},
   "outputs": [],
   "source": [
    "df.to_csv('andmed.csv', index=False) #Create a csv from the data"
   ]
  },
  {
   "cell_type": "code",
   "execution_count": null,
   "metadata": {},
   "outputs": [],
   "source": []
  }
 ],
 "metadata": {
  "kernelspec": {
   "display_name": "Python 3",
   "language": "python",
   "name": "python3"
  },
  "language_info": {
   "codemirror_mode": {
    "name": "ipython",
    "version": 3
   },
   "file_extension": ".py",
   "mimetype": "text/x-python",
   "name": "python",
   "nbconvert_exporter": "python",
   "pygments_lexer": "ipython3",
   "version": "3.8.5"
  }
 },
 "nbformat": 4,
 "nbformat_minor": 2
}
