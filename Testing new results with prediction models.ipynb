{
 "cells": [
  {
   "cell_type": "code",
   "execution_count": 107,
   "metadata": {},
   "outputs": [],
   "source": [
    "import pandas as pd\n",
    "import numpy as np\n",
    "import math"
   ]
  },
  {
   "cell_type": "code",
   "execution_count": 6,
   "metadata": {},
   "outputs": [],
   "source": [
    "# Find 3 countries with the biggest CO2 overall emissions\n",
    "\n",
    "df = pd.read_csv('andmed.csv')"
   ]
  },
  {
   "cell_type": "code",
   "execution_count": 126,
   "metadata": {},
   "outputs": [
    {
     "data": {
      "text/plain": [
       "['Aruba', 'Qatar', 'United Arab Emirates']"
      ]
     },
     "execution_count": 126,
     "metadata": {},
     "output_type": "execute_result"
    }
   ],
   "source": [
    "emissions = {}\n",
    "countries = set(df['Country Name'])\n",
    "\n",
    "for country in countries:\n",
    "    if country != 'World':\n",
    "        years = df[df['Country Name'] == country]['CO2 emissions (metric tons per capita) [EN.ATM.CO2E.PC]']\n",
    "        if len(years) != np.nan and len(years) > 0:\n",
    "            average = sum(years) / len(years)    \n",
    "            if not math.isnan(average):\n",
    "                emissions[country] = average\n",
    "            \n",
    "#Three of the biggest poluters of CO2\n",
    "sorted(emissions, key=emissions.get, reverse=True)[:3]\n"
   ]
  },
  {
   "cell_type": "code",
   "execution_count": 124,
   "metadata": {},
   "outputs": [
    {
     "data": {
      "text/plain": [
       "11056    233.488931\n",
       "11319    258.819846\n",
       "11582    234.886548\n",
       "11845    243.870306\n",
       "12108    281.995733\n",
       "Name: CO2 emissions (metric tons per capita) [EN.ATM.CO2E.PC], dtype: float64"
      ]
     },
     "execution_count": 124,
     "metadata": {},
     "output_type": "execute_result"
    }
   ],
   "source": [
    "#Just to check the overwhelming results\n",
    "df[df['Country Name'] == 'Aruba']['CO2 emissions (metric tons per capita) [EN.ATM.CO2E.PC]'].tail()"
   ]
  }
 ],
 "metadata": {
  "kernelspec": {
   "display_name": "Python 3",
   "language": "python",
   "name": "python3"
  },
  "language_info": {
   "codemirror_mode": {
    "name": "ipython",
    "version": 3
   },
   "file_extension": ".py",
   "mimetype": "text/x-python",
   "name": "python",
   "nbconvert_exporter": "python",
   "pygments_lexer": "ipython3",
   "version": "3.8.5"
  }
 },
 "nbformat": 4,
 "nbformat_minor": 4
}
